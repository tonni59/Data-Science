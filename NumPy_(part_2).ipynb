{
  "nbformat": 4,
  "nbformat_minor": 0,
  "metadata": {
    "colab": {
      "provenance": []
    },
    "kernelspec": {
      "name": "python3",
      "display_name": "Python 3"
    },
    "language_info": {
      "name": "python"
    }
  },
  "cells": [
    {
      "cell_type": "markdown",
      "source": [
        "**Indexing**"
      ],
      "metadata": {
        "id": "FR21cSwuqupu"
      }
    },
    {
      "cell_type": "code",
      "source": [
        "import numpy as np"
      ],
      "metadata": {
        "id": "jetxxfYyqxWl"
      },
      "execution_count": null,
      "outputs": []
    },
    {
      "cell_type": "code",
      "source": [
        "var = np.array([1,2,3,4])\n",
        "\n",
        "print(var[2])\n",
        "print(var[-3])"
      ],
      "metadata": {
        "colab": {
          "base_uri": "https://localhost:8080/"
        },
        "id": "nbzx1vKJqxYN",
        "outputId": "ca41007c-5ddf-4131-d6a0-0aa1dc44af1a"
      },
      "execution_count": null,
      "outputs": [
        {
          "output_type": "stream",
          "name": "stdout",
          "text": [
            "3\n",
            "2\n"
          ]
        }
      ]
    },
    {
      "cell_type": "code",
      "source": [
        "var1 = np.array([[9,8,7],[4,5,6]])\n",
        "\n",
        "print(var1)\n",
        "print(var1.ndim)\n",
        "print()\n",
        "\n",
        "print(var1[0,2])\n",
        "print(var1[1,1])"
      ],
      "metadata": {
        "colab": {
          "base_uri": "https://localhost:8080/"
        },
        "id": "BZf-sxJpqxbq",
        "outputId": "460835f9-2c03-4b73-f5eb-562f025c11ab"
      },
      "execution_count": null,
      "outputs": [
        {
          "output_type": "stream",
          "name": "stdout",
          "text": [
            "[[9 8 7]\n",
            " [4 5 6]]\n",
            "2\n",
            "\n",
            "7\n",
            "5\n"
          ]
        }
      ]
    },
    {
      "cell_type": "code",
      "source": [
        "var2 = np.array([[[1,2],[5,7]]])\n",
        "print(var2)\n",
        "print(var2.ndim)\n",
        "print()\n",
        "\n",
        "print(var2[0,1,1])\n",
        "print(var2[0,0,1])"
      ],
      "metadata": {
        "colab": {
          "base_uri": "https://localhost:8080/"
        },
        "id": "1jt1wO8Lqxdj",
        "outputId": "8cc46787-235b-4f63-bd6b-2ad9f0f17d5b"
      },
      "execution_count": null,
      "outputs": [
        {
          "output_type": "stream",
          "name": "stdout",
          "text": [
            "[[[1 2]\n",
            "  [5 7]]]\n",
            "3\n",
            "\n",
            "7\n",
            "2\n"
          ]
        }
      ]
    },
    {
      "cell_type": "markdown",
      "source": [
        "**Slicing**"
      ],
      "metadata": {
        "id": "UF8cgFGc0FVU"
      }
    },
    {
      "cell_type": "code",
      "source": [
        "var = np.array([1,2,4,5,6,7,9,8])\n",
        "#               0,1,2,3,4,5,6,7\n",
        "\n",
        "print(var)\n",
        "print()\n",
        "\n",
        "print(var[::2])\n",
        "print(var[0:5:2])"
      ],
      "metadata": {
        "colab": {
          "base_uri": "https://localhost:8080/"
        },
        "id": "RRJLpfu4qxhG",
        "outputId": "3eaa2fcd-5596-48dd-ff69-e61c00e0dc94"
      },
      "execution_count": null,
      "outputs": [
        {
          "output_type": "stream",
          "name": "stdout",
          "text": [
            "[1 2 4 5 6 7 9 8]\n",
            "\n",
            "[1 4 6 9]\n",
            "[1 4 6]\n"
          ]
        }
      ]
    },
    {
      "cell_type": "code",
      "source": [
        "var1 = np.array([[1,2,3,4,5],[6,7,8,9,10],[11,12,13,14,15]])\n",
        "\n",
        "print(var1)\n",
        "print(var1.ndim)\n",
        "print()\n",
        "\n",
        "print(\"7 to 9 :\",var1[1,1:4])"
      ],
      "metadata": {
        "colab": {
          "base_uri": "https://localhost:8080/"
        },
        "id": "2j4LGYB81jEK",
        "outputId": "60d3afa9-d91e-418e-c8ae-54fd04df4e79"
      },
      "execution_count": null,
      "outputs": [
        {
          "output_type": "stream",
          "name": "stdout",
          "text": [
            "[[ 1  2  3  4  5]\n",
            " [ 6  7  8  9 10]\n",
            " [11 12 13 14 15]]\n",
            "2\n",
            "\n",
            "7 to 9 : [7 8 9]\n"
          ]
        }
      ]
    },
    {
      "cell_type": "markdown",
      "source": [
        "**Iteration**"
      ],
      "metadata": {
        "id": "Lh3MSm6yvJLn"
      }
    },
    {
      "cell_type": "code",
      "source": [
        "var = np.array([4,5,6,7,8,9,10])\n",
        "print(var)\n",
        "print()\n",
        "\n",
        "for i in var:\n",
        "  print(i)"
      ],
      "metadata": {
        "id": "x58BiCww1jGC",
        "colab": {
          "base_uri": "https://localhost:8080/"
        },
        "outputId": "d65e99be-5bab-4a7b-a936-42c1206e7a29"
      },
      "execution_count": null,
      "outputs": [
        {
          "output_type": "stream",
          "name": "stdout",
          "text": [
            "[ 4  5  6  7  8  9 10]\n",
            "\n",
            "4\n",
            "5\n",
            "6\n",
            "7\n",
            "8\n",
            "9\n",
            "10\n"
          ]
        }
      ]
    },
    {
      "cell_type": "code",
      "source": [
        "var1 = np.array([[1,2,3,4],[5,6,7,8]])\n",
        "print(var1)\n",
        "print()\n",
        "\n",
        "for i in var1:\n",
        "  print(i)\n",
        "print()\n",
        "\n",
        "for k in var1:\n",
        "  for l in k:\n",
        "    print(l)"
      ],
      "metadata": {
        "id": "OYE_HyYk1jJu",
        "colab": {
          "base_uri": "https://localhost:8080/"
        },
        "outputId": "b8d97d24-7713-42bd-bc70-eb8e0e2f0561"
      },
      "execution_count": null,
      "outputs": [
        {
          "output_type": "stream",
          "name": "stdout",
          "text": [
            "[[1 2 3 4]\n",
            " [5 6 7 8]]\n",
            "\n",
            "[1 2 3 4]\n",
            "[5 6 7 8]\n",
            "\n",
            "1\n",
            "2\n",
            "3\n",
            "4\n",
            "5\n",
            "6\n",
            "7\n",
            "8\n"
          ]
        }
      ]
    },
    {
      "cell_type": "code",
      "source": [
        "var3 = np.array([[[9,8,7,6],[1,2,3,4]]])\n",
        "print(var3)\n",
        "print(var3.ndim)\n",
        "print()\n",
        "\n",
        "for i in var3:\n",
        "  for j in i:\n",
        "    for k in j:\n",
        "      print(k)"
      ],
      "metadata": {
        "colab": {
          "base_uri": "https://localhost:8080/"
        },
        "id": "kvVe7-kKxnKi",
        "outputId": "85b14ab4-bb64-4075-a0a6-6b77d564e8ac"
      },
      "execution_count": null,
      "outputs": [
        {
          "output_type": "stream",
          "name": "stdout",
          "text": [
            "[[[9 8 7 6]\n",
            "  [1 2 3 4]]]\n",
            "3\n",
            "\n",
            "9\n",
            "8\n",
            "7\n",
            "6\n",
            "1\n",
            "2\n",
            "3\n",
            "4\n"
          ]
        }
      ]
    },
    {
      "cell_type": "code",
      "source": [
        "var3 = np.array([[[9,8,7,6],[1,2,3,4]]])\n",
        "print(var3)\n",
        "print(var3.ndim)\n",
        "print()\n",
        "\n",
        "for i in np.nditer(var3):\n",
        "  print(i)\n",
        "\n",
        "print()\n",
        "\n",
        "for i in np.nditer(var3,flags = [\"buffered\"], op_dtypes = [\"S\"]):\n",
        "  print(i)"
      ],
      "metadata": {
        "colab": {
          "base_uri": "https://localhost:8080/"
        },
        "id": "Vp7lmAm7xnMM",
        "outputId": "9c7be3c5-3fc0-4f2d-87df-e52eca6c51c3"
      },
      "execution_count": null,
      "outputs": [
        {
          "output_type": "stream",
          "name": "stdout",
          "text": [
            "[[[9 8 7 6]\n",
            "  [1 2 3 4]]]\n",
            "3\n",
            "\n",
            "9\n",
            "8\n",
            "7\n",
            "6\n",
            "1\n",
            "2\n",
            "3\n",
            "4\n",
            "\n",
            "b'9'\n",
            "b'8'\n",
            "b'7'\n",
            "b'6'\n",
            "b'1'\n",
            "b'2'\n",
            "b'3'\n",
            "b'4'\n"
          ]
        }
      ]
    },
    {
      "cell_type": "code",
      "source": [
        "var3 = np.array([[[9,8,7,6],[1,2,3,4]]])\n",
        "print(var3)\n",
        "print(var3.ndim)\n",
        "print()\n",
        "\n",
        "for i,d in np.ndenumerate(var3):\n",
        "  print(i,d)"
      ],
      "metadata": {
        "colab": {
          "base_uri": "https://localhost:8080/"
        },
        "id": "1MC_9hR4xnQS",
        "outputId": "77343543-0393-4a73-dca4-f3b0605b8766"
      },
      "execution_count": null,
      "outputs": [
        {
          "output_type": "stream",
          "name": "stdout",
          "text": [
            "[[[9 8 7 6]\n",
            "  [1 2 3 4]]]\n",
            "3\n",
            "\n",
            "(0, 0, 0) 9\n",
            "(0, 0, 1) 8\n",
            "(0, 0, 2) 7\n",
            "(0, 0, 3) 6\n",
            "(0, 1, 0) 1\n",
            "(0, 1, 1) 2\n",
            "(0, 1, 2) 3\n",
            "(0, 1, 3) 4\n"
          ]
        }
      ]
    },
    {
      "cell_type": "markdown",
      "source": [
        "**Copy vs View**"
      ],
      "metadata": {
        "id": "nSWun0xO2RpF"
      }
    },
    {
      "cell_type": "code",
      "source": [
        "var = np.array([1,2,3,4])\n",
        "\n",
        "co = var.copy()\n",
        "\n",
        "var[1] = 40\n",
        "\n",
        "print(\"var :\",var)\n",
        "print(\"copy :\",co)\n"
      ],
      "metadata": {
        "colab": {
          "base_uri": "https://localhost:8080/"
        },
        "id": "2AiG5EUMxnSr",
        "outputId": "495e99e8-09b0-4c00-c725-53ae9e6dc43c"
      },
      "execution_count": null,
      "outputs": [
        {
          "output_type": "stream",
          "name": "stdout",
          "text": [
            "var : [ 1 40  3  4]\n",
            "copy : [1 2 3 4]\n"
          ]
        }
      ]
    },
    {
      "cell_type": "code",
      "source": [
        "var1 = np.array([1,2,3,4])\n",
        "\n",
        "vi = var1.view()\n",
        "\n",
        "var1[1] = 40\n",
        "\n",
        "print(\"var1 :\",var1)\n",
        "print(\"view :\",vi)"
      ],
      "metadata": {
        "colab": {
          "base_uri": "https://localhost:8080/"
        },
        "id": "OSUmMbkxxnWI",
        "outputId": "5dad9cb8-0b6e-4de9-f08a-3968a16dbdb8"
      },
      "execution_count": null,
      "outputs": [
        {
          "output_type": "stream",
          "name": "stdout",
          "text": [
            "var1 : [ 1 40  3  4]\n",
            "view : [ 1 40  3  4]\n"
          ]
        }
      ]
    },
    {
      "cell_type": "markdown",
      "source": [
        "**Join Array**"
      ],
      "metadata": {
        "id": "WUaeX7905mwR"
      }
    },
    {
      "cell_type": "code",
      "source": [
        "var = np.array([1,2,3,4])\n",
        "var1 = np.array([4,5,6,7])\n",
        "\n",
        "ar = np.concatenate((var,var1))\n",
        "\n",
        "print(ar)"
      ],
      "metadata": {
        "colab": {
          "base_uri": "https://localhost:8080/"
        },
        "id": "TR8FHu5HxnYG",
        "outputId": "54c372c8-52af-461e-c00a-6408d9cdfdc4"
      },
      "execution_count": null,
      "outputs": [
        {
          "output_type": "stream",
          "name": "stdout",
          "text": [
            "[1 2 3 4 4 5 6 7]\n"
          ]
        }
      ]
    },
    {
      "cell_type": "code",
      "source": [
        "vr = np.array([[1,2],[3,4]])\n",
        "vr1 = np.array([[4,5],[6,7]])\n",
        "\n",
        "ar_new = np.concatenate((vr,vr1),axis=1)\n",
        "ar_new1 = np.concatenate((vr,vr1),axis=0)\n",
        "\n",
        "print(vr)\n",
        "print()\n",
        "print(vr1)\n",
        "print()\n",
        "print(ar_new)\n",
        "print()\n",
        "print(ar_new1)"
      ],
      "metadata": {
        "colab": {
          "base_uri": "https://localhost:8080/"
        },
        "id": "Sc_j06aX5rP3",
        "outputId": "ccdd3903-8579-4011-bec0-03cdf4376b4b"
      },
      "execution_count": null,
      "outputs": [
        {
          "output_type": "stream",
          "name": "stdout",
          "text": [
            "[[1 2]\n",
            " [3 4]]\n",
            "\n",
            "[[4 5]\n",
            " [6 7]]\n",
            "\n",
            "[[1 2 4 5]\n",
            " [3 4 6 7]]\n",
            "\n",
            "[[1 2]\n",
            " [3 4]\n",
            " [4 5]\n",
            " [6 7]]\n"
          ]
        }
      ]
    },
    {
      "cell_type": "code",
      "source": [
        "var_1 = np.array([1,2,3,4])\n",
        "var_2 = np.array([4,5,6,7])\n",
        "\n",
        "a_new = np.stack((var_1,var_2))\n",
        "a_new1 = np.hstack((var_1,var_2))  #row\n",
        "a_new2 = np.vstack((var_1,var_2))  #columns\n",
        "a_new3 = np.dstack((var_1,var_2))  #height\n",
        "\n",
        "print(a_new)\n",
        "print()\n",
        "print(a_new1)\n",
        "print()\n",
        "print(a_new2)\n",
        "print()\n",
        "print(a_new3)"
      ],
      "metadata": {
        "colab": {
          "base_uri": "https://localhost:8080/"
        },
        "id": "S8LQ8S_25rR1",
        "outputId": "34562fb8-756a-412d-bb9b-5a521b281d8a"
      },
      "execution_count": null,
      "outputs": [
        {
          "output_type": "stream",
          "name": "stdout",
          "text": [
            "[[1 2 3 4]\n",
            " [4 5 6 7]]\n",
            "\n",
            "[1 2 3 4 4 5 6 7]\n",
            "\n",
            "[[1 2 3 4]\n",
            " [4 5 6 7]]\n",
            "\n",
            "[[[1 4]\n",
            "  [2 5]\n",
            "  [3 6]\n",
            "  [4 7]]]\n"
          ]
        }
      ]
    },
    {
      "cell_type": "markdown",
      "source": [
        "**Split array**"
      ],
      "metadata": {
        "id": "djjLCWl_DVq6"
      }
    },
    {
      "cell_type": "code",
      "source": [
        "var = np.array([1,2,3,4,5,6])\n",
        "\n",
        "print(var)\n",
        "\n",
        "ar = np.array_split(var,3)\n",
        "\n",
        "print()\n",
        "print(ar)\n",
        "print(type(ar))\n",
        "print(ar[0])\n",
        "print(ar[1])\n",
        "print(ar[2])"
      ],
      "metadata": {
        "colab": {
          "base_uri": "https://localhost:8080/"
        },
        "id": "oC3DdIDb5rVJ",
        "outputId": "fa8613bc-d57c-4cbe-c4f0-8d366a444bcb"
      },
      "execution_count": null,
      "outputs": [
        {
          "output_type": "stream",
          "name": "stdout",
          "text": [
            "[1 2 3 4 5 6]\n",
            "\n",
            "[array([1, 2]), array([3, 4]), array([5, 6])]\n",
            "<class 'list'>\n",
            "[1 2]\n",
            "[3 4]\n",
            "[5 6]\n"
          ]
        }
      ]
    },
    {
      "cell_type": "code",
      "source": [
        "var1 = np.array([[1,2],[3,4],[5,6]])\n",
        "\n",
        "print(var)\n",
        "\n",
        "ar1 = np.array_split(var1,3)\n",
        "ar2 = np.array_split(var1,3,axis=1)\n",
        "\n",
        "print()\n",
        "print(ar1)\n",
        "print(type(ar1))\n",
        "print(ar1[0])\n",
        "print(ar1[1])\n",
        "print(ar1[2])\n",
        "print()\n",
        "print(ar2)\n",
        "print()\n",
        "print(ar2[0])\n",
        "print(ar2[1])\n",
        "print(ar2[2])"
      ],
      "metadata": {
        "colab": {
          "base_uri": "https://localhost:8080/"
        },
        "id": "Vic9KxDb5rXU",
        "outputId": "a6995ba2-bc5f-4105-b5c8-5a81d63733c2"
      },
      "execution_count": null,
      "outputs": [
        {
          "output_type": "stream",
          "name": "stdout",
          "text": [
            "[1 2 3 4 5 6]\n",
            "\n",
            "[array([[1, 2]]), array([[3, 4]]), array([[5, 6]])]\n",
            "<class 'list'>\n",
            "[[1 2]]\n",
            "[[3 4]]\n",
            "[[5 6]]\n",
            "\n",
            "[array([[1],\n",
            "       [3],\n",
            "       [5]]), array([[2],\n",
            "       [4],\n",
            "       [6]]), array([], shape=(3, 0), dtype=int64)]\n",
            "\n",
            "[[1]\n",
            " [3]\n",
            " [5]]\n",
            "[[2]\n",
            " [4]\n",
            " [6]]\n",
            "[]\n"
          ]
        }
      ]
    },
    {
      "cell_type": "markdown",
      "source": [
        "**Search**"
      ],
      "metadata": {
        "id": "jACxCrXSa6Qf"
      }
    },
    {
      "cell_type": "code",
      "source": [
        "var = np.array([1,2,3,4,2,6,2,7,8,9])\n",
        "#index          0,1,2,3,4,5,6,7,8,9\n",
        "\n",
        "x = np.where(var == 2)\n",
        "x1 = np.where((var/2) == 0)\n",
        "x2 = np.where((var%2) == 0)\n",
        "\n",
        "print(x)\n",
        "print()\n",
        "print(x1)\n",
        "print()\n",
        "print(x2)"
      ],
      "metadata": {
        "colab": {
          "base_uri": "https://localhost:8080/"
        },
        "id": "Ny2vQ7tfa8P9",
        "outputId": "a9b94f0c-c382-4886-f33e-c39f350eb75d"
      },
      "execution_count": null,
      "outputs": [
        {
          "output_type": "stream",
          "name": "stdout",
          "text": [
            "(array([1, 4, 6]),)\n",
            "\n",
            "(array([], dtype=int64),)\n",
            "\n",
            "(array([1, 3, 4, 5, 6, 8]),)\n"
          ]
        }
      ]
    },
    {
      "cell_type": "code",
      "source": [
        "var1 = np.array([1,2,4,6,7,8,9,10])\n",
        "#index           0,1,2,3,4,5,6\n",
        "\n",
        "x1 = np.searchsorted(var1,6)\n",
        "x2 = np.searchsorted(var1,3,side=\"right\")\n",
        "x3 = np.searchsorted(var1,[4,5,6],side=\"right\")\n",
        "\n",
        "print(x2)\n",
        "print(x1)\n",
        "print(x3)"
      ],
      "metadata": {
        "colab": {
          "base_uri": "https://localhost:8080/"
        },
        "id": "CkV9Kmysa8Rm",
        "outputId": "9a257488-df27-4d5b-b115-37019a4cbe36"
      },
      "execution_count": null,
      "outputs": [
        {
          "output_type": "stream",
          "name": "stdout",
          "text": [
            "2\n",
            "3\n",
            "[3 3 4]\n"
          ]
        }
      ]
    },
    {
      "cell_type": "markdown",
      "source": [
        "**Sort**"
      ],
      "metadata": {
        "id": "9OzYgQk4guvH"
      }
    },
    {
      "cell_type": "code",
      "source": [
        "var_1 = np.array([5,9,3,1,4,12,56,44,32,11])\n",
        "\n",
        "print(np.sort(var_1))"
      ],
      "metadata": {
        "colab": {
          "base_uri": "https://localhost:8080/"
        },
        "id": "ve7ksGVda8V7",
        "outputId": "11355bbe-ba6b-4980-9dee-2530d3cab70a"
      },
      "execution_count": null,
      "outputs": [
        {
          "output_type": "stream",
          "name": "stdout",
          "text": [
            "[ 1  3  4  5  9 11 12 32 44 56]\n"
          ]
        }
      ]
    },
    {
      "cell_type": "code",
      "source": [
        "var_2 = np.array([\"d\",\"a\",\"c\",\"f\"])\n",
        "\n",
        "print(np.sort(var_2))"
      ],
      "metadata": {
        "colab": {
          "base_uri": "https://localhost:8080/"
        },
        "id": "lXFCxaJRa8Ya",
        "outputId": "26741851-1f3a-4a5a-dc1a-3f3cc77d16f5"
      },
      "execution_count": null,
      "outputs": [
        {
          "output_type": "stream",
          "name": "stdout",
          "text": [
            "['a' 'c' 'd' 'f']\n"
          ]
        }
      ]
    },
    {
      "cell_type": "code",
      "source": [
        "var_3 = np.array([[5,9,3],[1,4,12],[56,44,32]])\n",
        "\n",
        "print(np.sort(var_3))"
      ],
      "metadata": {
        "colab": {
          "base_uri": "https://localhost:8080/"
        },
        "id": "FeYFmpQ0kL50",
        "outputId": "49ea11f2-08c0-4b0d-b65f-68564ecd13b5"
      },
      "execution_count": null,
      "outputs": [
        {
          "output_type": "stream",
          "name": "stdout",
          "text": [
            "[[ 3  5  9]\n",
            " [ 1  4 12]\n",
            " [32 44 56]]\n"
          ]
        }
      ]
    },
    {
      "cell_type": "markdown",
      "source": [
        "**Filter Array**"
      ],
      "metadata": {
        "id": "T-ti0USAlemg"
      }
    },
    {
      "cell_type": "code",
      "source": [
        "var_3 = np.array([\"a\",\"s\",\"d\",\"f\"])\n",
        "\n",
        "f = [True,False,False,True]\n",
        "\n",
        "new_a = var_3[f]\n",
        "\n",
        "print(new_a)"
      ],
      "metadata": {
        "colab": {
          "base_uri": "https://localhost:8080/"
        },
        "id": "sIzk11QykL8F",
        "outputId": "e8620fcf-22b2-4854-efca-b6a9892266dc"
      },
      "execution_count": null,
      "outputs": [
        {
          "output_type": "stream",
          "name": "stdout",
          "text": [
            "['a' 'f']\n"
          ]
        }
      ]
    },
    {
      "cell_type": "markdown",
      "source": [
        "**shuffle**"
      ],
      "metadata": {
        "id": "AfEAEEcWndyE"
      }
    },
    {
      "cell_type": "code",
      "source": [
        "var = np.array([1,2,3,4,5,6])\n",
        "\n",
        "np.random.shuffle(var)\n",
        "\n",
        "print(var)"
      ],
      "metadata": {
        "colab": {
          "base_uri": "https://localhost:8080/"
        },
        "id": "svLeyTMkkL_3",
        "outputId": "5352bd16-8a1f-42e3-ec99-9b422b587b4e"
      },
      "execution_count": null,
      "outputs": [
        {
          "output_type": "stream",
          "name": "stdout",
          "text": [
            "[4 2 1 6 3 5]\n"
          ]
        }
      ]
    },
    {
      "cell_type": "markdown",
      "source": [
        "**Unique**"
      ],
      "metadata": {
        "id": "2oF7i0oSoIiB"
      }
    },
    {
      "cell_type": "code",
      "source": [
        "var = np.array([1,2,3,5,4,5,3,6,7,6,8,9])\n",
        "\n",
        "x = np.unique(var,return_index=True,return_counts=True)\n",
        "\n",
        "print(x)"
      ],
      "metadata": {
        "colab": {
          "base_uri": "https://localhost:8080/"
        },
        "id": "LhBIl3pToFU3",
        "outputId": "581cee8f-99a5-4070-f674-4c5d90bfe81c"
      },
      "execution_count": null,
      "outputs": [
        {
          "output_type": "stream",
          "name": "stdout",
          "text": [
            "(array([1, 2, 3, 4, 5, 6, 7, 8, 9]), array([ 0,  1,  2,  4,  3,  7,  8, 10, 11]), array([1, 1, 2, 1, 2, 2, 1, 1, 1]))\n"
          ]
        }
      ]
    },
    {
      "cell_type": "markdown",
      "source": [
        "**Resize**"
      ],
      "metadata": {
        "id": "pCWXkz4WpWjq"
      }
    },
    {
      "cell_type": "code",
      "source": [
        "var2 = np.array([1,2,3,5,4,5,3,6,7,6,8,9])\n",
        "\n",
        "x = np.resize(var2,(3,4))\n",
        "print(x)\n",
        "print()\n",
        "\n"
      ],
      "metadata": {
        "colab": {
          "base_uri": "https://localhost:8080/"
        },
        "id": "T_PWGGvzoFXO",
        "outputId": "cd8e31b4-09e7-4245-b602-971f7b65fc41"
      },
      "execution_count": null,
      "outputs": [
        {
          "output_type": "stream",
          "name": "stdout",
          "text": [
            "[[1 2 3 5]\n",
            " [4 5 3 6]\n",
            " [7 6 8 9]]\n",
            "\n"
          ]
        }
      ]
    },
    {
      "cell_type": "code",
      "source": [
        "var3 = np.array([1,2,3,4,5])\n",
        "\n",
        "v = np.insert(var3 , 2 , 40)\n",
        "v1 = np.insert(var3 , (2,4) , 40)\n",
        "\n",
        "print(var3)\n",
        "print()\n",
        "print(v)\n",
        "print()\n",
        "print(v1)"
      ],
      "metadata": {
        "colab": {
          "base_uri": "https://localhost:8080/"
        },
        "id": "kL0qSNctoFa9",
        "outputId": "574a5b31-200c-4675-961c-60011d0f1e22"
      },
      "execution_count": null,
      "outputs": [
        {
          "output_type": "stream",
          "name": "stdout",
          "text": [
            "[1 2 3 4 5]\n",
            "\n",
            "[ 1  2 40  3  4  5]\n",
            "\n",
            "[ 1  2 40  3  4 40  5]\n"
          ]
        }
      ]
    },
    {
      "cell_type": "code",
      "source": [
        "var1 = np.array([[1,2,3],[4,5,6]])\n",
        "\n",
        "v2 = np.insert(var1 , 2, 6, axis=1)\n",
        "v3 = np.insert(var1 , 2, 6, axis=0)\n",
        "v4 = np.insert(var1 , 1, [22,24] , axis=1)\n",
        "v5 = np.insert(var1 , 2, [22,24,25] , axis=0)\n",
        "\n",
        "print(v2)\n",
        "print()\n",
        "print(v3)\n",
        "print()\n",
        "print(v4)\n",
        "print()\n",
        "print(v5)"
      ],
      "metadata": {
        "colab": {
          "base_uri": "https://localhost:8080/"
        },
        "id": "vFu9V_omoFdN",
        "outputId": "33acc9b5-91cf-4150-c38f-e86ebc343b39"
      },
      "execution_count": null,
      "outputs": [
        {
          "output_type": "stream",
          "name": "stdout",
          "text": [
            "[[1 2 6 3]\n",
            " [4 5 6 6]]\n",
            "\n",
            "[[1 2 3]\n",
            " [4 5 6]\n",
            " [6 6 6]]\n",
            "\n",
            "[[ 1 22  2  3]\n",
            " [ 4 24  5  6]]\n",
            "\n",
            "[[ 1  2  3]\n",
            " [ 4  5  6]\n",
            " [22 24 25]]\n"
          ]
        }
      ]
    },
    {
      "cell_type": "markdown",
      "source": [
        "**Delete**"
      ],
      "metadata": {
        "id": "2etyiHLU2Ay0"
      }
    },
    {
      "cell_type": "code",
      "source": [
        "var = np.array([1,2,3,4,5,6])\n",
        "\n",
        "d = np.delete(var , 2)\n",
        "print(var)\n",
        "print()\n",
        "print(d)"
      ],
      "metadata": {
        "colab": {
          "base_uri": "https://localhost:8080/"
        },
        "id": "xUyjZ3KkoFg2",
        "outputId": "93ebeb49-4507-4c78-f96b-818567908d02"
      },
      "execution_count": null,
      "outputs": [
        {
          "output_type": "stream",
          "name": "stdout",
          "text": [
            "[1 2 3 4 5 6]\n",
            "\n",
            "[1 2 4 5 6]\n"
          ]
        }
      ]
    }
  ]
}