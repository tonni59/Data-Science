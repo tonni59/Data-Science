{
  "nbformat": 4,
  "nbformat_minor": 0,
  "metadata": {
    "colab": {
      "provenance": []
    },
    "kernelspec": {
      "name": "python3",
      "display_name": "Python 3"
    },
    "language_info": {
      "name": "python"
    }
  },
  "cells": [
    {
      "cell_type": "code",
      "execution_count": null,
      "metadata": {
        "id": "Pkn2AEd76FmJ"
      },
      "outputs": [],
      "source": [
        "import numpy as np\n"
      ]
    },
    {
      "cell_type": "code",
      "source": [
        "x = np.array([1,2,3,4])\n",
        "print(x)\n",
        "print(type(x))"
      ],
      "metadata": {
        "id": "mA7EB35R855k"
      },
      "execution_count": null,
      "outputs": []
    },
    {
      "cell_type": "code",
      "source": [
        "y=[1,2,3,4]\n",
        "print(y)\n",
        "print(type(y))"
      ],
      "metadata": {
        "id": "r_2S0TCp857O"
      },
      "execution_count": null,
      "outputs": []
    },
    {
      "cell_type": "code",
      "source": [
        "%timeit [j**4 for j in range (1,9)]"
      ],
      "metadata": {
        "id": "RL_OqWjr85_x"
      },
      "execution_count": null,
      "outputs": []
    },
    {
      "cell_type": "markdown",
      "source": [
        "**Array**"
      ],
      "metadata": {
        "id": "Yppvtp9NERPB"
      }
    },
    {
      "cell_type": "code",
      "source": [
        "x = [1,2,3,4]\n",
        "\n",
        "y = np.array(x)\n",
        "\n",
        "print(y)\n",
        "print(type(y))\n",
        "print(y.ndim)"
      ],
      "metadata": {
        "id": "SjYJpXqu86EY"
      },
      "execution_count": null,
      "outputs": []
    },
    {
      "cell_type": "code",
      "source": [
        "l = []\n",
        "\n",
        "\n",
        "for i in range(1,5):\n",
        "  int_1 = input(\"Enter:\")\n",
        "  l.append(int_1)\n",
        "print(np.array(l))"
      ],
      "metadata": {
        "id": "p_eCt2-RKG2I"
      },
      "execution_count": null,
      "outputs": []
    },
    {
      "cell_type": "code",
      "source": [
        "ar2 = np.array([[1,2,3,4],[1,2,3,4]])\n",
        "print(ar2)\n",
        "print(ar2.ndim)"
      ],
      "metadata": {
        "id": "Rxnx_lVHKG4K"
      },
      "execution_count": null,
      "outputs": []
    },
    {
      "cell_type": "code",
      "source": [
        "ar3 = np.array([[[1,2,3,4],[1,3,4,5],[1,4,5,6]]])\n",
        "print(ar3)\n",
        "print(type(ar3))\n",
        "print(ar3.ndim)"
      ],
      "metadata": {
        "id": "O9O-WvRlKG7R"
      },
      "execution_count": null,
      "outputs": []
    },
    {
      "cell_type": "code",
      "source": [
        "arn = np.array([1],ndmin = 10)\n",
        "print(arn)\n",
        "print(arn.ndim)"
      ],
      "metadata": {
        "id": "ZnzP2MwFKG9A"
      },
      "execution_count": null,
      "outputs": []
    },
    {
      "cell_type": "markdown",
      "source": [
        "**Zeros**"
      ],
      "metadata": {
        "id": "aGHruUG_H5DQ"
      }
    },
    {
      "cell_type": "code",
      "source": [
        "ar_zero = np.zeros(4)\n",
        "ar_zero1 = np.zeros((3,4))\n",
        "\n",
        "print(ar_zero)\n",
        "print()\n",
        "print(ar_zero1)"
      ],
      "metadata": {
        "id": "rh0LgUTvH8US"
      },
      "execution_count": null,
      "outputs": []
    },
    {
      "cell_type": "markdown",
      "source": [
        "**Ones**"
      ],
      "metadata": {
        "id": "3-dC5ijSJpvy"
      }
    },
    {
      "cell_type": "code",
      "source": [
        "ar_one = np.ones(4)\n",
        "\n",
        "print(ar_one)\n"
      ],
      "metadata": {
        "id": "MDPqthmzH8V7"
      },
      "execution_count": null,
      "outputs": []
    },
    {
      "cell_type": "markdown",
      "source": [
        "**Range**"
      ],
      "metadata": {
        "id": "zKBHDtEjLpAV"
      }
    },
    {
      "cell_type": "code",
      "source": [
        "ar_rn = np.arange(4)\n",
        "\n",
        "print(ar_rn)"
      ],
      "metadata": {
        "id": "lwu_XsGyH8aB"
      },
      "execution_count": null,
      "outputs": []
    },
    {
      "cell_type": "markdown",
      "source": [
        "**Diagonal**"
      ],
      "metadata": {
        "id": "sHOMH2ATNWCF"
      }
    },
    {
      "cell_type": "code",
      "source": [
        "ar_dia = np.eye(3)\n",
        "ar_dia1 = np.eye(3,5)\n",
        "\n",
        "\n",
        "\n",
        "print(ar_dia)\n",
        "print()\n",
        "print(ar_dia1)"
      ],
      "metadata": {
        "id": "LKwMOLm2H8bZ"
      },
      "execution_count": null,
      "outputs": []
    },
    {
      "cell_type": "markdown",
      "source": [
        "**Linespace**"
      ],
      "metadata": {
        "id": "xsUgltKIXYie"
      }
    },
    {
      "cell_type": "code",
      "source": [
        "ar_ln = np.linspace(0,20,num=5)\n",
        "ar_ln2 = np.linspace(0,10,num=4)\n",
        "\n",
        "print(ar_ln)\n",
        "print()\n",
        "print(ar_ln2)"
      ],
      "metadata": {
        "id": "4AZwD9xCH8f-"
      },
      "execution_count": null,
      "outputs": []
    },
    {
      "cell_type": "markdown",
      "source": [
        "# **Random**"
      ],
      "metadata": {
        "id": "qwMKsCWWcnrQ"
      }
    },
    {
      "cell_type": "markdown",
      "source": [
        "**Rand**"
      ],
      "metadata": {
        "id": "bw6cyrpOcsM4"
      }
    },
    {
      "cell_type": "code",
      "source": [
        "var = np.random.rand(4)\n",
        "\n",
        "print(var)"
      ],
      "metadata": {
        "id": "OaFGIqKTH8ha"
      },
      "execution_count": null,
      "outputs": []
    },
    {
      "cell_type": "code",
      "source": [
        "var1 = np.random.rand(2,5)\n",
        "\n",
        "print(var1)"
      ],
      "metadata": {
        "id": "Nhm9w5YCH8lO"
      },
      "execution_count": null,
      "outputs": []
    },
    {
      "cell_type": "markdown",
      "source": [
        "**randn()**"
      ],
      "metadata": {
        "id": "kN4eHs7WVo6D"
      }
    },
    {
      "cell_type": "code",
      "source": [
        "var2 = np.random.randn(5)\n",
        "\n",
        "print(var2)"
      ],
      "metadata": {
        "id": "aG6s94bNVrtw"
      },
      "execution_count": null,
      "outputs": []
    },
    {
      "cell_type": "markdown",
      "source": [
        "**randf()**"
      ],
      "metadata": {
        "id": "ddxuJyDnXF9m"
      }
    },
    {
      "cell_type": "code",
      "source": [
        "var3 = np.random.ranf(4)\n",
        "\n",
        "print(var3)"
      ],
      "metadata": {
        "id": "FaUsAZ6gVrvQ"
      },
      "execution_count": null,
      "outputs": []
    },
    {
      "cell_type": "markdown",
      "source": [
        "**randint()**"
      ],
      "metadata": {
        "id": "yiEO-RimXfFw"
      }
    },
    {
      "cell_type": "code",
      "source": [
        "var4 = np.random.randint(5,20,5)\n",
        "\n",
        "print(var4)"
      ],
      "metadata": {
        "id": "NXgxMUbfVry4"
      },
      "execution_count": null,
      "outputs": []
    },
    {
      "cell_type": "markdown",
      "source": [
        "**DataType**"
      ],
      "metadata": {
        "id": "_jxo86vLbzT0"
      }
    },
    {
      "cell_type": "code",
      "source": [
        "var = np.array([1,2,3,4,5])\n",
        "\n",
        "print(\"data type:\",var.dtype)"
      ],
      "metadata": {
        "id": "rmnjtRhKVr0a"
      },
      "execution_count": null,
      "outputs": []
    },
    {
      "cell_type": "code",
      "source": [
        "var = np.array([1.0,2.0,3.0])\n",
        "\n",
        "print(\"data type:\",var.dtype)"
      ],
      "metadata": {
        "id": "uWN92iZOb2dN"
      },
      "execution_count": null,
      "outputs": []
    },
    {
      "cell_type": "code",
      "source": [
        "var = np.array([\"A\",\"B\",\"D\"])\n",
        "\n",
        "print(\"data type:\",var.dtype)"
      ],
      "metadata": {
        "id": "Ile6wRAbb2e4"
      },
      "execution_count": null,
      "outputs": []
    },
    {
      "cell_type": "code",
      "source": [
        "var = np.array([\"A\",\"B\",\"D\",1,2,3])\n",
        "\n",
        "print(\"data type:\",var.dtype)"
      ],
      "metadata": {
        "id": "ZwcbcKHab2ig"
      },
      "execution_count": null,
      "outputs": []
    },
    {
      "cell_type": "code",
      "source": [
        "x = np.array([1,2,3,4,5],dtype = np.int8)\n",
        "\n",
        "print(\"data type:\",x.dtype)"
      ],
      "metadata": {
        "id": "t82huqBzfChd"
      },
      "execution_count": null,
      "outputs": []
    },
    {
      "cell_type": "code",
      "source": [
        "x1 = np.array([1,2,3,4,5],dtype = \"f\")\n",
        "\n",
        "print(\"data type:\",x1.dtype)"
      ],
      "metadata": {
        "id": "87ujtFvcfCjO"
      },
      "execution_count": null,
      "outputs": []
    },
    {
      "cell_type": "code",
      "source": [
        "x2 = np.array([1,2,3,4,5])\n",
        "\n",
        "new = np.float32(x2)\n",
        "new_one = np.int_(new)\n",
        "\n",
        "print(\"data type:\",x2.dtype)\n",
        "print(\"data type:\",new.dtype)\n",
        "print(\"data type:\",new_one.dtype)\n",
        "\n",
        "print(x2)\n",
        "print(new)\n",
        "print(new_one)"
      ],
      "metadata": {
        "id": "gICNAeCRfCmt"
      },
      "execution_count": null,
      "outputs": []
    },
    {
      "cell_type": "code",
      "source": [
        "x3 = np.array([1,2,3,4,5])\n",
        "\n",
        "new_1 = x3.astype(float)\n",
        "\n",
        "print(new_1)"
      ],
      "metadata": {
        "id": "1kXTQznxfCoq"
      },
      "execution_count": null,
      "outputs": []
    },
    {
      "cell_type": "markdown",
      "source": [
        "**Arithmetic Operator**"
      ],
      "metadata": {
        "id": "MpF8GNkcsqMF"
      }
    },
    {
      "cell_type": "code",
      "source": [
        "var = np.array([1,2,3,4])\n",
        "\n",
        "varadd = var + 3\n",
        "\n",
        "print(varadd)"
      ],
      "metadata": {
        "id": "TZT-6j2Js2al"
      },
      "execution_count": null,
      "outputs": []
    },
    {
      "cell_type": "code",
      "source": [
        "var = np.array([1,2,3,4])\n",
        "\n",
        "varadd = np.add(var,3)\n",
        "\n",
        "print(varadd)"
      ],
      "metadata": {
        "id": "aeeGaB9axDkt"
      },
      "execution_count": null,
      "outputs": []
    },
    {
      "cell_type": "code",
      "source": [
        "var = np.array([1,2,3,4])\n",
        "var1 = np.array([1,2,3,4])\n",
        "\n",
        "varadd = var + var1\n",
        "\n",
        "print(varadd)"
      ],
      "metadata": {
        "id": "dBDnkduns2cZ"
      },
      "execution_count": null,
      "outputs": []
    },
    {
      "cell_type": "code",
      "source": [
        "var = np.array([1,2,3,4])\n",
        "var1 = np.array([1,2,3,4])\n",
        "\n",
        "varadd = np.add(var,var1)\n",
        "\n",
        "print(varadd)"
      ],
      "metadata": {
        "id": "SNhqjWNcw5Tf"
      },
      "execution_count": null,
      "outputs": []
    },
    {
      "cell_type": "code",
      "source": [
        "var = np.array([1,2,3,4])\n",
        "\n",
        "varadd = var - 3\n",
        "\n",
        "print(varadd)"
      ],
      "metadata": {
        "id": "NWBGAbV2s2fq"
      },
      "execution_count": null,
      "outputs": []
    },
    {
      "cell_type": "code",
      "source": [
        "var = np.array([1,2,3,4])\n",
        "\n",
        "varadd = var * 3\n",
        "\n",
        "print(varadd)"
      ],
      "metadata": {
        "id": "ooVCgtZLs2ht"
      },
      "execution_count": null,
      "outputs": []
    },
    {
      "cell_type": "code",
      "source": [
        "var = np.array([1,2,3,4])\n",
        "\n",
        "varadd = var / 3\n",
        "\n",
        "print(varadd)"
      ],
      "metadata": {
        "id": "iW1wlHMBs2kR"
      },
      "execution_count": null,
      "outputs": []
    },
    {
      "cell_type": "code",
      "source": [
        "var = np.array([1,2,3,4])\n",
        "\n",
        "varadd = var % 3\n",
        "\n",
        "print(varadd)"
      ],
      "metadata": {
        "id": "0lC3NjPJs2l8"
      },
      "execution_count": null,
      "outputs": []
    },
    {
      "cell_type": "code",
      "source": [
        "var = np.array([1,2,3,4])\n",
        "\n",
        "varadd = np.reciprocal(var)\n",
        "\n",
        "print(varadd)"
      ],
      "metadata": {
        "id": "SS-dFY-R0QxQ"
      },
      "execution_count": null,
      "outputs": []
    },
    {
      "cell_type": "markdown",
      "source": [
        "**2D Array**"
      ],
      "metadata": {
        "id": "3BICDETMzsvf"
      }
    },
    {
      "cell_type": "code",
      "source": [
        "var1 = np.array([[1,2,3,4],[1,2,3,4]])\n",
        "var2 = np.array([[1,2,3,4],[1,2,3,4]])\n",
        "\n",
        "varadd = var1 + var2\n",
        "\n",
        "print(var1)\n",
        "print()\n",
        "print(var2)\n",
        "print()\n",
        "\n",
        "print(varadd)"
      ],
      "metadata": {
        "id": "cWNGAESPzutA"
      },
      "execution_count": null,
      "outputs": []
    },
    {
      "cell_type": "code",
      "source": [
        "var = np.array([1,2,3,4,5])\n",
        "\n",
        "print(\"Min : \",np.min(var),np.argmin(var))\n",
        "print(\"Max : \",np.max(var),np.argmax(var))\n",
        "print(\"Sqrt : \",np.sqrt(var))"
      ],
      "metadata": {
        "id": "NeCJ0btrzuu7"
      },
      "execution_count": null,
      "outputs": []
    },
    {
      "cell_type": "code",
      "source": [
        "var1 = np.array([[2,5,3],[9,7,6]])\n",
        "\n",
        "print(np.min(var1,axis=0))\n",
        "print(np.min(var1,axis=1))"
      ],
      "metadata": {
        "id": "gepNzq_9zuyx"
      },
      "execution_count": null,
      "outputs": []
    },
    {
      "cell_type": "code",
      "source": [
        "var2 = np.array([1,5,8])\n",
        "\n",
        "print(np.sin(var2))\n",
        "print(np.cos(var2))\n",
        "print(np.cumsum(var2))"
      ],
      "metadata": {
        "id": "ncSG0CmCzu14"
      },
      "execution_count": null,
      "outputs": []
    },
    {
      "cell_type": "markdown",
      "source": [
        "**shape**"
      ],
      "metadata": {
        "id": "ronbUqPJqzB1"
      }
    },
    {
      "cell_type": "code",
      "source": [
        "var = np.array([[1,2,3,4],[3,4,5,6]])\n",
        "\n",
        "print(var)\n",
        "print()\n",
        "print(var.shape)"
      ],
      "metadata": {
        "id": "LoPb9T54zu4b"
      },
      "execution_count": null,
      "outputs": []
    },
    {
      "cell_type": "code",
      "source": [
        "var1 = np.array([1,2,3,4], ndmin = 4)\n",
        "\n",
        "print(var1)\n",
        "print()\n",
        "print(var1.shape)\n",
        "print()\n",
        "print(var1.ndim)"
      ],
      "metadata": {
        "id": "5tToyDqJq1Nz"
      },
      "execution_count": null,
      "outputs": []
    },
    {
      "cell_type": "code",
      "source": [
        "var2 = np.array([1,2,3,4,5,6])\n",
        "print(var2)\n",
        "print(var2.ndim)\n",
        "\n",
        "print()\n",
        "\n",
        "x = var2.reshape(3,2)\n",
        "print(x)\n",
        "print(x.ndim)"
      ],
      "metadata": {
        "id": "OmjABGYPq1Pn"
      },
      "execution_count": null,
      "outputs": []
    },
    {
      "cell_type": "code",
      "source": [
        "var3 = np.array([1,2,3,4,5,6,7,8,9,10,11,12])\n",
        "print(var3)\n",
        "print(var3.ndim)\n",
        "\n",
        "print()\n",
        "\n",
        "x1 = var3.reshape(2,3,2)\n",
        "print(x1)\n",
        "print(x1.ndim)"
      ],
      "metadata": {
        "id": "wApzbLjqq1U4"
      },
      "execution_count": null,
      "outputs": []
    },
    {
      "cell_type": "code",
      "source": [
        "var3 = np.array([1,2,3,4,5,6,7,8,9,10,11,12])\n",
        "print(var3)\n",
        "print(var3.ndim)\n",
        "\n",
        "print()\n",
        "\n",
        "x1 = var3.reshape(2,3,2)\n",
        "print(x1)\n",
        "print(x1.ndim)\n",
        "\n",
        "print()\n",
        "\n",
        "one = x1.reshape(-1)\n",
        "print(one)\n",
        "print(one.ndim)"
      ],
      "metadata": {
        "id": "jAi-oeMHq1Wt"
      },
      "execution_count": null,
      "outputs": []
    },
    {
      "cell_type": "code",
      "source": [
        "var1 = np.array([1,2,3])\n",
        "print(var1.shape)\n",
        "print(var1)\n",
        "\n",
        "print()\n",
        "\n",
        "var2 = np.array([[1],[2],[3]])\n",
        "print(var2.shape)\n",
        "print(var2)\n",
        "\n",
        "print()\n",
        "\n",
        "print(var1 + var2)"
      ],
      "metadata": {
        "id": "MpyZhdyK1McS"
      },
      "execution_count": null,
      "outputs": []
    },
    {
      "cell_type": "code",
      "source": [],
      "metadata": {
        "id": "-fE34Raw4AgB"
      },
      "execution_count": null,
      "outputs": []
    },
    {
      "cell_type": "code",
      "source": [
        "x = np.array([[1],[2]])\n",
        "print(x.shape)\n",
        "print(x)\n",
        "print()\n",
        "\n",
        "y = np.array([[1,2,3],[4,5,6]])\n",
        "print(y.shape)\n",
        "print(y)\n",
        "print()\n",
        "\n",
        "print(x+y)"
      ],
      "metadata": {
        "id": "j1Z6PToW1MeP"
      },
      "execution_count": null,
      "outputs": []
    },
    {
      "cell_type": "code",
      "source": [
        "var = np.array([1,2,3,4,5,6], ndmin = 3)\n",
        "print(var)\n",
        "print(var.ndim)\n",
        "print()\n",
        "\n",
        "var1 = var.reshape(3,2)\n",
        "print(var1)\n",
        "print(var1.ndim)\n",
        "print()"
      ],
      "metadata": {
        "id": "abdwaWor1Mhp"
      },
      "execution_count": null,
      "outputs": []
    },
    {
      "cell_type": "code",
      "source": [],
      "metadata": {
        "id": "4Hpwe5Gb1Mku"
      },
      "execution_count": null,
      "outputs": []
    },
    {
      "cell_type": "code",
      "source": [],
      "metadata": {
        "id": "5pONdJeI1MnF"
      },
      "execution_count": null,
      "outputs": []
    }
  ]
}